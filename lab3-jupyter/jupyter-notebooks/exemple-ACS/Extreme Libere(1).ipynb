{
 "cells": [
  {
   "cell_type": "markdown",
   "metadata": {},
   "source": [
    "# Extreme libere"
   ]
  },
  {
   "cell_type": "markdown",
   "metadata": {},
   "source": [
    "<p>\n",
    "\\begin{equation}\n",
    "f : \\mathbb{R}^{2} \\rightarrow \\mathbb{R},f = f(x,y)\n",
    "\\end{equation}\n",
    " Ne propunem sa studiem valorile sale extreme, adica sa ii gasim minimul si maximul, considerand ca functia este definita, derivabila si continua pe tot domeniul de definitie.\n",
    "Pasii pe care domeniul de definitie:\n",
    "</p>\n"
   ]
  },
  {
   "cell_type": "code",
   "execution_count": 68,
   "metadata": {},
   "outputs": [],
   "source": [
    "from sympy import *\n",
    "from IPython.display import display\n",
    "x, y = symbols('x, y', real=True)\n",
    "# f = 3*x*y**2 - x**3 - 15*x - 36*y + 9\n",
    "f = 4*x*y -x**4 - y**4\n",
    "# f = x**3+y**3-6*x*y"
   ]
  },
  {
   "cell_type": "code",
   "execution_count": 69,
   "metadata": {
    "scrolled": true
   },
   "outputs": [
    {
     "data": {
      "text/latex": [
       "$\\displaystyle 3 x^{2} - 6 y$"
      ],
      "text/plain": [
       "3*x**2 - 6*y"
      ]
     },
     "metadata": {},
     "output_type": "display_data"
    },
    {
     "data": {
      "text/latex": [
       "$\\displaystyle - 6 x + 3 y^{2}$"
      ],
      "text/plain": [
       "-6*x + 3*y**2"
      ]
     },
     "metadata": {},
     "output_type": "display_data"
    }
   ],
   "source": [
    "fx=diff(f,x)\n",
    "fy=diff(f,y)\n",
    "display(fx)\n",
    "display(fy)"
   ]
  },
  {
   "cell_type": "markdown",
   "metadata": {},
   "source": [
    "<p>Rezolvam sistemul de ecuatii dat de anularea derivatelor partiale de ordinul intai, din care aflam punctele critice, care este posibil sa fie de extrem. Asadar, rezolvam sistemul:</p>"
   ]
  },
  {
   "cell_type": "code",
   "execution_count": 70,
   "metadata": {},
   "outputs": [
    {
     "name": "stdout",
     "output_type": "stream",
     "text": [
      "x = 0, y = 0\n",
      "x = 2, y = 2\n"
     ]
    }
   ],
   "source": [
    "sol = solve([fx, fy])\n",
    "for i in range(len(sol)):\n",
    "    print(\"x = {}, y = {}\".format(sol[i][x], sol[i][y]))"
   ]
  },
  {
   "cell_type": "code",
   "execution_count": 71,
   "metadata": {
    "scrolled": true
   },
   "outputs": [
    {
     "data": {
      "text/latex": [
       "$\\displaystyle 6 x$"
      ],
      "text/plain": [
       "6*x"
      ]
     },
     "metadata": {},
     "output_type": "display_data"
    },
    {
     "data": {
      "text/latex": [
       "$\\displaystyle 6 y$"
      ],
      "text/plain": [
       "6*y"
      ]
     },
     "metadata": {},
     "output_type": "display_data"
    },
    {
     "data": {
      "text/latex": [
       "$\\displaystyle -6$"
      ],
      "text/plain": [
       "-6"
      ]
     },
     "metadata": {},
     "output_type": "display_data"
    },
    {
     "data": {
      "text/latex": [
       "$\\displaystyle -6$"
      ],
      "text/plain": [
       "-6"
      ]
     },
     "metadata": {},
     "output_type": "display_data"
    }
   ],
   "source": [
    "fxx = diff(f,x,x)\n",
    "fyy = diff(f,y,y)\n",
    "fxy = diff(f,x,y)\n",
    "fyx = diff(f,y,x)\n",
    "display(fxx)\n",
    "display(fyy)\n",
    "display(fxy)\n",
    "display(fyx)"
   ]
  },
  {
   "cell_type": "markdown",
   "metadata": {},
   "source": [
    "<p>Pentru fiecare dintre punctele critice A<sub>i</sub> se alcatuieste matricea hessiana a functiei, alcatuita din derivatele de ordinul al doilea si se evalueaza matricea in punctele critice:</p>"
   ]
  },
  {
   "cell_type": "code",
   "execution_count": 72,
   "metadata": {},
   "outputs": [
    {
     "data": {
      "text/latex": [
       "$\\displaystyle \\left[\\begin{matrix}6 x & -6\\\\-6 & 6 y\\end{matrix}\\right]$"
      ],
      "text/plain": [
       "Matrix([\n",
       "[6*x,  -6],\n",
       "[ -6, 6*y]])"
      ]
     },
     "metadata": {},
     "output_type": "display_data"
    }
   ],
   "source": [
    "M = Matrix([[fxx,fxy],[fyx,fyy]])\n",
    "display(M)"
   ]
  },
  {
   "cell_type": "code",
   "execution_count": 73,
   "metadata": {},
   "outputs": [
    {
     "data": {
      "text/latex": [
       "$\\displaystyle \\left[\\begin{matrix}1 & 0\\\\0 & 1\\end{matrix}\\right]$"
      ],
      "text/plain": [
       "Matrix([\n",
       "[1, 0],\n",
       "[0, 1]])"
      ]
     },
     "metadata": {},
     "output_type": "display_data"
    }
   ],
   "source": [
    "I2 = Matrix([[1,0],[0,1]])\n",
    "display(I2)"
   ]
  },
  {
   "cell_type": "code",
   "execution_count": 74,
   "metadata": {},
   "outputs": [
    {
     "data": {
      "text/plain": [
       "'M='"
      ]
     },
     "metadata": {},
     "output_type": "display_data"
    },
    {
     "data": {
      "text/latex": [
       "$\\displaystyle \\left[\\begin{matrix}0 & -6\\\\-6 & 0\\end{matrix}\\right]$"
      ],
      "text/plain": [
       "Matrix([\n",
       "[ 0, -6],\n",
       "[-6,  0]])"
      ]
     },
     "metadata": {},
     "output_type": "display_data"
    },
    {
     "data": {
      "text/plain": [
       "'P ='"
      ]
     },
     "metadata": {},
     "output_type": "display_data"
    },
    {
     "data": {
      "text/latex": [
       "$\\displaystyle \\left[\\begin{matrix}- l & -6\\\\-6 & - l\\end{matrix}\\right]$"
      ],
      "text/plain": [
       "Matrix([\n",
       "[-l, -6],\n",
       "[-6, -l]])"
      ]
     },
     "metadata": {},
     "output_type": "display_data"
    },
    {
     "data": {
      "text/plain": [
       "'determinantul ='"
      ]
     },
     "metadata": {},
     "output_type": "display_data"
    },
    {
     "data": {
      "text/latex": [
       "$\\displaystyle l^{2} - 36$"
      ],
      "text/plain": [
       "l**2 - 36"
      ]
     },
     "metadata": {},
     "output_type": "display_data"
    },
    {
     "data": {
      "text/plain": [
       "'Solutiile='"
      ]
     },
     "metadata": {},
     "output_type": "display_data"
    },
    {
     "data": {
      "text/plain": [
       "[-6, 6]"
      ]
     },
     "metadata": {},
     "output_type": "display_data"
    },
    {
     "data": {
      "text/plain": [
       "'M='"
      ]
     },
     "metadata": {},
     "output_type": "display_data"
    },
    {
     "data": {
      "text/latex": [
       "$\\displaystyle \\left[\\begin{matrix}12 & -6\\\\-6 & 12\\end{matrix}\\right]$"
      ],
      "text/plain": [
       "Matrix([\n",
       "[12, -6],\n",
       "[-6, 12]])"
      ]
     },
     "metadata": {},
     "output_type": "display_data"
    },
    {
     "data": {
      "text/plain": [
       "'P ='"
      ]
     },
     "metadata": {},
     "output_type": "display_data"
    },
    {
     "data": {
      "text/latex": [
       "$\\displaystyle \\left[\\begin{matrix}12 - l & -6\\\\-6 & 12 - l\\end{matrix}\\right]$"
      ],
      "text/plain": [
       "Matrix([\n",
       "[12 - l,     -6],\n",
       "[    -6, 12 - l]])"
      ]
     },
     "metadata": {},
     "output_type": "display_data"
    },
    {
     "data": {
      "text/plain": [
       "'determinantul ='"
      ]
     },
     "metadata": {},
     "output_type": "display_data"
    },
    {
     "data": {
      "text/latex": [
       "$\\displaystyle l^{2} - 24 l + 108$"
      ],
      "text/plain": [
       "l**2 - 24*l + 108"
      ]
     },
     "metadata": {},
     "output_type": "display_data"
    },
    {
     "data": {
      "text/plain": [
       "'Solutiile='"
      ]
     },
     "metadata": {},
     "output_type": "display_data"
    },
    {
     "data": {
      "text/plain": [
       "[6, 18]"
      ]
     },
     "metadata": {},
     "output_type": "display_data"
    },
    {
     "name": "stdout",
     "output_type": "stream",
     "text": [
      "[[-6, 6], [6, 18]]\n"
     ]
    }
   ],
   "source": [
    "lista = []\n",
    "for i in range(len(sol)):\n",
    "    l=symbols('l', real=True)\n",
    "    M = Matrix([[fxx.subs([(x, sol[i][x]),(y,sol[i][y])]), fxy.subs([(x, sol[i][x]),(y,sol[i][y])])] ,\n",
    "                [fyx.subs([(x, sol[i][x]),(y,sol[i][y])]), fyy.subs([(x, sol[i][x]),(y,sol[i][y])])]])\n",
    "    display(\"M=\", M)\n",
    "    P = M - l*I2\n",
    "    display(\"P =\",P)\n",
    "    detP = P.det()\n",
    "    display(\"determinantul =\",detP)\n",
    "    s = solve(detP,l)\n",
    "    display(\"Solutiile=\",s)\n",
    "    lista.append(s)\n",
    "for i in range(len(lista)):\n",
    "    if len(lista[i])==1:\n",
    "        var=lista[i][0]\n",
    "        lista[i] = [var,var]\n",
    "\n",
    "print(lista)"
   ]
  },
  {
   "cell_type": "markdown",
   "metadata": {},
   "source": [
    "<p> A<sub>i</sub> punct critic fixat. Calculam valorile proprii &#955;<sub>1,2</sub> ale matricei hessiene si decidem astfel:</p>\n"
   ]
  },
  {
   "cell_type": "code",
   "execution_count": 75,
   "metadata": {},
   "outputs": [
    {
     "name": "stdout",
     "output_type": "stream",
     "text": [
      "punctul de coordonate (0,0) nu este punct de extrem\n",
      "punctul de coordonate (2,2) este punct de minim local\n"
     ]
    }
   ],
   "source": [
    "for i in range(len(lista)):\n",
    "    if lista[i][0]>0 and lista[i][1]>0:\n",
    "        print(\"punctul de coordonate ({},{}) este punct de minim local\".format(sol[i][x],sol[i][y]))\n",
    "    elif lista[i][0]<0 and lista[i][1]<0:\n",
    "        print(\"punctul de coordonate ({},{}) este punct de maxim local\".format(sol[i][x],sol[i][y]))\n",
    "    elif lista[i][0]*lista[i][1]<0:\n",
    "        print(\"punctul de coordonate ({},{}) nu este punct de extrem\".format(sol[i][x],sol[i][y]))\n",
    "    elif lista[i][0]*lista[i][1] == 0:\n",
    "        print(\"nu putem decide\")\n"
   ]
  }
 ],
 "metadata": {
  "kernelspec": {
   "display_name": "Python 3",
   "language": "python",
   "name": "python3"
  },
  "language_info": {
   "codemirror_mode": {
    "name": "ipython",
    "version": 3
   },
   "file_extension": ".py",
   "mimetype": "text/x-python",
   "name": "python",
   "nbconvert_exporter": "python",
   "pygments_lexer": "ipython3",
   "version": "3.8.5"
  }
 },
 "nbformat": 4,
 "nbformat_minor": 4
}

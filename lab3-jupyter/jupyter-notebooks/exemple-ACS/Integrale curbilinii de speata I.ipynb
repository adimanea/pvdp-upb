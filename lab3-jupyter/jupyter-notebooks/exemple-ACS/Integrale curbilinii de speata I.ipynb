{
 "cells": [
  {
   "cell_type": "markdown",
   "metadata": {},
   "source": [
    "<b><h1 style=\"font-size:30px; text-align: center\">Integrale curbilinii de Speta I</h1></b>\n",
    "<h2 style=\"font-size:15px; text-align: right\">Stavarache Robert-Antonio</h2>\n",
    "<h2 style=\"font-size:15px;  text-align: right\">Eduard Mihai</h2>"
   ]
  },
  {
   "cell_type": "markdown",
   "metadata": {},
   "source": [
    "Integrala curbilinie de speta I a aparut ca nevoie de a generaliza problema determinarii masei si lungimii unui fir de o densitate cunoscuta. Curba pe care firul se afla este introdusa in domeniul matematicii sub titlul de drum parametrizat. Drumul parametrizat este o functie de o singura variabila, avand, insa, un codomeniu multidimenensional. \n",
    "Componentele drumului parametrizat reprezinta evolutia curbei proiectata pe axele planului sau spatiului, in cazul drumurilor bi/tridimensionale:\n",
    "<p style=\"font-size: 20px; text-align: center;\">\n",
    "    \\begin{equation}\n",
    "\\gamma :[a,b]\\rightarrow \\mathbb{R}^{n}; a,b\\in \\mathbb{R}\n",
    "\\end{equation}\n",
    "</p>\n",
    "<p style=\"font-size: 20px; text-align: center;\"> γ(t)=( x<sub>1</sub> (t), x<sub>2</sub> (t), x<sub>3</sub> (t),   …   , x<sub>n</sub> (t) )</p>\n",
    "<p style=\"font-size: 20px; text-align: center;\">\n",
    "\\begin{equation}\n",
    "x_{i}:[a,b]\\rightarrow \\mathbb{R}; a,b\\in \\mathbb{R}, i=\\overline{1,n}\n",
    "\\end{equation}\n",
    "</p>\n",
    "Densitatea firului, care poate fi constanta sau variabila este introdusa printr-o functie ce are ca numar de variabile, numarul componentelor drumului parametrizat:\n",
    "<p style=\"font-size: 20px; text-align: center;\">\n",
    "\\begin{equation}\n",
    "    f : D\\subset \\mathbb{R}^{n}\\rightarrow \\mathbb{R}\n",
    "\\end{equation}\n",
    "</p>\n",
    "<p style=\"font-size: 20px; text-align: center;\"> f(x<sub>1</sub>,x<sub>2</sub>,x<sub>3</sub>,   …   ,x<sub>n</sub>)=y  ; x<sub>1</sub>,x<sub>2</sub>,x<sub>3</sub>,   …   ,x<sub>n</sub>,y ∈ ℝ</p>\n",
    "\n",
    "Atunci integrala curbilinie de speta I este: \n",
    "<p style=\"font-size: 20px\">\n",
    "\\begin{equation}\n",
    "\\int_{\\gamma}^{}fds=\\int_{a}^{b}f(\\gamma(t))\\cdot \\left \\| \\frac{\\mathrm{d} }{\\mathrm{d} t}\\gamma(t) \\right \\|dt\n",
    "\\end{equation}\n",
    "    \n",
    "\\begin{equation}\n",
    "\\left \\| \\frac{\\mathrm{d} }{\\mathrm{d} t}\\gamma(t) \\right \\| = \\sqrt{ \\sum_{i=1}^{n}\\left ( \\frac{∂x_{i}(t)}{∂t} \\right )^{2} }\n",
    "\\end{equation}\n",
    "</p>"
   ]
  },
  {
   "cell_type": "markdown",
   "metadata": {},
   "source": [
    "<p style=\"font-size: 20px;\">Initializam doua liste, lista simbolurilor si cea a componentelor drumului parametrizat gamma, pe care le vom popula.</p>"
   ]
  },
  {
   "cell_type": "code",
   "execution_count": 45,
   "metadata": {},
   "outputs": [],
   "source": [
    "from sympy import *\n",
    "from IPython.display import display\n",
    "from math import pi\n",
    "\n",
    "symbol_list=[]\n",
    "gammma=[]"
   ]
  },
  {
   "cell_type": "markdown",
   "metadata": {},
   "source": [
    "<p style=\"font-size: 20px;\">Introducem numarul de componente ale drumului parametrizat, deci si numarul de variabile ale functiei pe care o integram</p>"
   ]
  },
  {
   "cell_type": "code",
   "execution_count": 46,
   "metadata": {},
   "outputs": [
    {
     "name": "stdout",
     "output_type": "stream",
     "text": [
      "Introduceti numarul de componente ale drumului parametrizat: \n"
     ]
    },
    {
     "name": "stdin",
     "output_type": "stream",
     "text": [
      " 2\n"
     ]
    }
   ],
   "source": [
    "print(\"Introduceti numarul de componente ale drumului parametrizat: \")\n",
    "n=int(input())\n",
    "m=n+1"
   ]
  },
  {
   "cell_type": "markdown",
   "metadata": {},
   "source": [
    "<p style=\"font-size: 20px;\">Utilizatorul introduce simbolurile pe care doreste sa le utilizeze. Primele vor intra in componenta functiei, iar ultimul intra in reprezentarea componentelor drumului parametrizat</p>"
   ]
  },
  {
   "cell_type": "code",
   "execution_count": 47,
   "metadata": {},
   "outputs": [
    {
     "name": "stdout",
     "output_type": "stream",
     "text": [
      "Simbolul 1\n"
     ]
    },
    {
     "name": "stdin",
     "output_type": "stream",
     "text": [
      " x\n"
     ]
    },
    {
     "name": "stdout",
     "output_type": "stream",
     "text": [
      "Simbolul 2\n"
     ]
    },
    {
     "name": "stdin",
     "output_type": "stream",
     "text": [
      " y\n"
     ]
    },
    {
     "name": "stdout",
     "output_type": "stream",
     "text": [
      "Cu ce simbol introduceti gamma: \n"
     ]
    },
    {
     "name": "stdin",
     "output_type": "stream",
     "text": [
      " t\n"
     ]
    },
    {
     "name": "stdout",
     "output_type": "stream",
     "text": [
      "[x, y]\n",
      "Gamma se reprezinta cu ajutorul simbolului:  t\n"
     ]
    }
   ],
   "source": [
    "for i in range(n):\n",
    "    print(\"Simbolul\",i+1)\n",
    "    symbol_list.append(symbols(\"%c\" %input()))\n",
    "print(\"Cu ce simbol introduceti gamma: \")\n",
    "symbol_list.append(symbols(\"%c\" %input()))\n",
    "print(symbol_list[:n])\n",
    "print(\"Gamma se reprezinta cu ajutorul simbolului: \",symbol_list[n])"
   ]
  },
  {
   "cell_type": "markdown",
   "metadata": {},
   "source": [
    "<p style=\"font-size: 20px;\">Introducem componentele drumului gamma, ulterior afisandu-le pentru a ne asigura ca au fost introduse si interpretate corect</p>\n",
    "<p style=\"font-size: 20px; text-align: center;\"> γ(t)=( x<sub>1</sub>(t), x<sub>2</sub>(t), x<sub>3</sub>(t),   …   , x<sub>n</sub>(t) )</p>\n",
    "                                          "
   ]
  },
  {
   "cell_type": "code",
   "execution_count": 48,
   "metadata": {},
   "outputs": [
    {
     "name": "stdout",
     "output_type": "stream",
     "text": [
      "Componenta 1 a lui gamma: \n"
     ]
    },
    {
     "name": "stdin",
     "output_type": "stream",
     "text": [
      " sqrt(2)*cos(t)\n"
     ]
    },
    {
     "name": "stdout",
     "output_type": "stream",
     "text": [
      "Componenta 2 a lui gamma: \n"
     ]
    },
    {
     "name": "stdin",
     "output_type": "stream",
     "text": [
      " sqrt(2)*sin(t)\n"
     ]
    },
    {
     "name": "stdout",
     "output_type": "stream",
     "text": [
      "-----\n",
      "Componenta:\n"
     ]
    },
    {
     "data": {
      "text/latex": [
       "$\\displaystyle \\sqrt{2} \\cos{\\left(t \\right)}$"
      ],
      "text/plain": [
       "sqrt(2)*cos(t)"
      ]
     },
     "metadata": {},
     "output_type": "display_data"
    },
    {
     "name": "stdout",
     "output_type": "stream",
     "text": [
      "cu derivata "
     ]
    },
    {
     "data": {
      "text/latex": [
       "$\\displaystyle - \\sqrt{2} \\sin{\\left(t \\right)}$"
      ],
      "text/plain": [
       "-sqrt(2)*sin(t)"
      ]
     },
     "metadata": {},
     "output_type": "display_data"
    },
    {
     "name": "stdout",
     "output_type": "stream",
     "text": [
      "-----\n",
      "Componenta:\n"
     ]
    },
    {
     "data": {
      "text/latex": [
       "$\\displaystyle \\sqrt{2} \\sin{\\left(t \\right)}$"
      ],
      "text/plain": [
       "sqrt(2)*sin(t)"
      ]
     },
     "metadata": {},
     "output_type": "display_data"
    },
    {
     "name": "stdout",
     "output_type": "stream",
     "text": [
      "cu derivata "
     ]
    },
    {
     "data": {
      "text/latex": [
       "$\\displaystyle \\sqrt{2} \\cos{\\left(t \\right)}$"
      ],
      "text/plain": [
       "sqrt(2)*cos(t)"
      ]
     },
     "metadata": {},
     "output_type": "display_data"
    },
    {
     "name": "stdout",
     "output_type": "stream",
     "text": [
      "-----\n"
     ]
    }
   ],
   "source": [
    "for i in range(n):\n",
    "    print(\"Componenta\",i+1,\"a lui gamma: \")\n",
    "    gammma.append(sympify(input()))\n",
    "    \n",
    "for ex in gammma:\n",
    "    print(\"-----\")\n",
    "    print(\"Componenta:\") \n",
    "    display(ex) \n",
    "    print(\"cu derivata\",end=\" \")\n",
    "    display(diff(ex,symbol_list[n]))\n",
    "print(\"-----\")"
   ]
  },
  {
   "cell_type": "markdown",
   "metadata": {},
   "source": [
    "<p style=\"font-size: 20px;\">Calculam norma derivatei drumului parametrizat, utilizand formula: </p>\n",
    "\\begin{equation}\n",
    "\\left \\| \\frac{\\mathrm{d} }{\\mathrm{d} t}\\gamma(t) \\right \\| = \\sqrt{ \\sum_{i=1}^{n}\\left ( \\frac{∂x_{i}(t)}{∂t} \\right )^{2} }\n",
    "\\end{equation}"
   ]
  },
  {
   "cell_type": "code",
   "execution_count": 49,
   "metadata": {},
   "outputs": [
    {
     "data": {
      "text/latex": [
       "$\\displaystyle \\sqrt{2}$"
      ],
      "text/plain": [
       "sqrt(2)"
      ]
     },
     "metadata": {},
     "output_type": "display_data"
    }
   ],
   "source": [
    "norma_deriv=0\n",
    "for i in range(n):\n",
    "    norma_deriv+= expand(diff(gammma[i],symbol_list[n])**2)\n",
    "\n",
    "norma_deriv=sqrt(trigsimp(factor(norma_deriv)))\n",
    "\n",
    "display(norma_deriv)"
   ]
  },
  {
   "cell_type": "markdown",
   "metadata": {},
   "source": [
    "<p style=\"font-size:20px\">\n",
    "Introducem functia de n variabile\n",
    "</p>"
   ]
  },
  {
   "cell_type": "code",
   "execution_count": 50,
   "metadata": {},
   "outputs": [
    {
     "name": "stdout",
     "output_type": "stream",
     "text": [
      "Introduceti functia de 2 variabile, utilizand simbolurile introduse: [x, y]\n"
     ]
    },
    {
     "name": "stdin",
     "output_type": "stream",
     "text": [
      " x**2\n"
     ]
    }
   ],
   "source": [
    "print(\"Introduceti functia de\",n,\"variabile, utilizand simbolurile introduse: {}\".format(symbol_list[:n]))\n",
    "funct=sympify(input())"
   ]
  },
  {
   "cell_type": "markdown",
   "metadata": {},
   "source": [
    "<p style=\"font-size:20px\">Introducem intervalul de integrare</p>"
   ]
  },
  {
   "cell_type": "code",
   "execution_count": 51,
   "metadata": {},
   "outputs": [
    {
     "name": "stdout",
     "output_type": "stream",
     "text": [
      "Introduceti intervalul de integrare:\n"
     ]
    },
    {
     "name": "stdin",
     "output_type": "stream",
     "text": [
      " 0\n",
      " pi/2\n"
     ]
    },
    {
     "name": "stdout",
     "output_type": "stream",
     "text": [
      "Intervalul este [0.00,1.57]\n"
     ]
    }
   ],
   "source": [
    "print(\"Introduceti intervalul de integrare:\")\n",
    "a=sympify(input())\n",
    "a=float(a.evalf())\n",
    "b=sympify(input())\n",
    "b=float(b.evalf())\n",
    "print(\"Intervalul este [{:.2f},{:.2f}]\".format(a,b))"
   ]
  },
  {
   "cell_type": "markdown",
   "metadata": {},
   "source": [
    "<p style=\"font-size:20px\">Programul inlocuieste pas cu pas, in variabilele functiei, componentele drumului Gamma</p>"
   ]
  },
  {
   "cell_type": "code",
   "execution_count": 52,
   "metadata": {},
   "outputs": [
    {
     "data": {
      "text/latex": [
       "$\\displaystyle 2 \\cos^{2}{\\left(t \\right)}$"
      ],
      "text/plain": [
       "2*cos(t)**2"
      ]
     },
     "metadata": {},
     "output_type": "display_data"
    }
   ],
   "source": [
    "for i in range(n):\n",
    "    funct=funct.subs(symbol_list[i],gammma[i ])\n",
    "\n",
    "funct=trigsimp(factor(funct))\n",
    "display(funct)"
   ]
  },
  {
   "cell_type": "markdown",
   "metadata": {},
   "source": [
    "<p style=\"font-size:20px\">Afisarea rezultatului final</p>"
   ]
  },
  {
   "cell_type": "code",
   "execution_count": 53,
   "metadata": {},
   "outputs": [
    {
     "data": {
      "text/latex": [
       "$\\displaystyle \\int\\limits_{0.0}^{1.5707963267949} 2 \\sqrt{2} \\cos^{2}{\\left(t \\right)}\\, dt$"
      ],
      "text/plain": [
       "Integral(2*sqrt(2)*cos(t)**2, (t, 0.0, 1.5707963267949))"
      ]
     },
     "metadata": {},
     "output_type": "display_data"
    },
    {
     "name": "stdout",
     "output_type": "stream",
     "text": [
      "=\n"
     ]
    },
    {
     "data": {
      "text/latex": [
       "$\\displaystyle 2.22144146907918$"
      ],
      "text/plain": [
       "2.22144146907918"
      ]
     },
     "metadata": {},
     "output_type": "display_data"
    }
   ],
   "source": [
    "g=Integral(funct*norma_deriv, (symbol_list[n],a,b) )\n",
    "\n",
    "display(g)\n",
    "print(\"=\")\n",
    "display(g.doit().evalf(chop=True))"
   ]
  },
  {
   "cell_type": "markdown",
   "metadata": {},
   "source": [
    "<p style=\"font-size: 20px;\">Afisarea curbei in plan</p>"
   ]
  },
  {
   "cell_type": "code",
   "execution_count": 54,
   "metadata": {},
   "outputs": [
    {
     "data": {
      "image/png": "[encoded data removed]",
      "text/plain": [
       "<Figure size 432x288 with 1 Axes>"
      ]
     },
     "metadata": {
      "needs_background": "light"
     },
     "output_type": "display_data"
    }
   ],
   "source": [
    "if n == 2:\n",
    "    plot_parametric(gammma[0],gammma[1],(symbol_list[n],a,b))\n",
    "else:\n",
    "    print(\"Graficul nu poate fi realizat\")"
   ]
  }
 ],
 "metadata": {
  "kernelspec": {
   "display_name": "Python 3",
   "language": "python",
   "name": "python3"
  },
  "language_info": {
   "codemirror_mode": {
    "name": "ipython",
    "version": 3
   },
   "file_extension": ".py",
   "mimetype": "text/x-python",
   "name": "python",
   "nbconvert_exporter": "python",
   "pygments_lexer": "ipython3",
   "version": "3.9.0"
  }
 },
 "nbformat": 4,
 "nbformat_minor": 4
}

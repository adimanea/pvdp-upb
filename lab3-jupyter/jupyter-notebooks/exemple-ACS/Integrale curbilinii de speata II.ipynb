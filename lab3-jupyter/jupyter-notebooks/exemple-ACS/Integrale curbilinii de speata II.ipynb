{
 "cells": [
  {
   "cell_type": "markdown",
   "metadata": {},
   "source": [
    "<b><h1 style=\"font-size:30px; text-align: center\">Integrale curbilinii de Speta II</h1></b>\n",
    "<h2 style=\"font-size:15px; text-align: right\">Stavarache Robert-Antonio</h2>\n",
    "<h2 style=\"font-size:15px;  text-align: right\">Eduard Mihai</h2>"
   ]
  },
  {
   "cell_type": "markdown",
   "metadata": {},
   "source": [
    "Integrala curbilinie de speta II, pe de alta parte, reprezinta un concept mult mai complex decat cea de speta I.\n",
    "<br>\n",
    "Pastrand definitia si notatiile anterioare pentru drumul parametrizat, definim campul vectorial astfel:\n",
    "<p style=\"font-size:20px\">\n",
    "\\begin{equation}\n",
    "\\vec{V}:D\\subset \\mathbb{R}^{n}\\rightarrow \\mathbb{R}^{n}\n",
    "\\end{equation}\n",
    "\\begin{equation}\n",
    "\\vec{V}(x_{1},x_{2},x_{3}, ... , x_{n}) = (f_{1}(x_{1},x_{2},x_{3}, ... , x_{n}),f_{2}(x_{1},x_{2},x_{3}, ... , x_{n}), ... , f_{n}(x_{1},x_{2},x_{3}, ... , x_{n}))\n",
    "\\end{equation}\n",
    "\\begin{equation}\n",
    "f_{i} : D\\subset \\mathbb{R}^{n}\\rightarrow \\mathbb{R} , i=\\overline{1,n}\n",
    "\\end{equation}\n",
    "\\begin{equation}\n",
    "\\textrm{Vom nota cu: } \n",
    "\\vec{\\tau} = (\\frac{dx_{1}}{ds},\\frac{dx_{2}}{ds},\\frac{dx_{3}}{ds}, ...  ,\\frac{dx_{n}}{ds} )\n",
    "\\end{equation}\n",
    "</p>\n",
    "versorul tangentei la curba intr-un punct (vectorul ce are ca si componente derivatele functiilor campului, in raport cu un parametru s, ce reprezinta coordonata pe curba).\n",
    "Atunci denumim Integrala curbilinie de speta II/Circulatia unui camp vectorial/Rotorul unui camp vectorial :\n",
    "<p style=\"font-size:20px\">\n",
    "\\begin{eqnarray}\n",
    "\\int_{\\gamma}\\vec{V} \\cdot \\vec{\\tau} ds=\\int{\\gamma}(f_{1}dx_{1}+f_{2}dx_{2}+f_{3}dx{3}+ ... +f_{n}dx_{n})\n",
    "\\end{eqnarray}\n",
    "</p>\n",
    "Unde f<sub>i</sub> si x<sub>i</sub> sunt componente ale campului vectorial, respectiv, drumului parametrizat\n",
    "<br>\n",
    "Aceasta se calculeaza in urmatorul mod: \n",
    "<p style=\"font-size:20px\">\n",
    "\\begin{eqnarray}\n",
    "\\int_{\\gamma}(f_{1}dx_{1}+f_{2}dx_{2}+f_{3}dx_{3}+ ... +f_{n}dx_{n})=\\int_{a}^{b}(f_{1}(\\gamma(t))x_{1}^{'}(t)+f_{2}(\\gamma(t))x_{2}^{'}(t)+...+f_{n}(\\gamma(t))x_{n}^{'}(t))dt\n",
    "\\end{eqnarray}\n",
    "</p>\n",
    "Aplicabiliatea integralei curbilinii de speta a doua se regaseste cu precadere in domeniul fizicii pentru calcularea lucrului mecanic a unei forte de-a lungul unei traiectorii. De asemenea, circulatia unor anumite campuri vectoriale(electrice sau magnetice) se calculeaza de-a lungul unor curbe cu ajutorul acestei formule."
   ]
  },
  {
   "cell_type": "markdown",
   "metadata": {},
   "source": [
    "<p style=\"font-size:20px\">Initializam trei liste, lista simbolurilor, cea a componentelor drumului parametrizat gamma, si lista componentelor campului vectorial.</p>"
   ]
  },
  {
   "cell_type": "code",
   "execution_count": 119,
   "metadata": {},
   "outputs": [],
   "source": [
    "from sympy import *\n",
    "from IPython.display import display, Markdown\n",
    "from math import pi\n",
    "import matplotlib.pyplot as plt\n",
    "import numpy as np\n",
    "\n",
    "symbol_list=[]\n",
    "gammma=[]\n",
    "componente_camp=[]"
   ]
  },
  {
   "cell_type": "markdown",
   "metadata": {},
   "source": [
    "<p style=\"font-size: 20px;\">Introducem numarul de componente ale drumului parametrizat, deci si numarul componente ale campului vectorial</p>"
   ]
  },
  {
   "cell_type": "code",
   "execution_count": 120,
   "metadata": {},
   "outputs": [
    {
     "name": "stdout",
     "output_type": "stream",
     "text": [
      "Introduceti numarul de componente ale drumului parametrizat: \n"
     ]
    },
    {
     "name": "stdin",
     "output_type": "stream",
     "text": [
      " 2\n"
     ]
    }
   ],
   "source": [
    "print(\"Introduceti numarul de componente ale drumului parametrizat: \")\n",
    "n=int(input())\n",
    "m=n+1"
   ]
  },
  {
   "cell_type": "markdown",
   "metadata": {},
   "source": [
    "<p style=\"font-size: 20px;\">Utilizatorul introduce simbolurile pe care doreste sa le utilizeze. Primele vor intra in componenta functiei, iar ultimul intra in reprezentarea componentelor drumului parametrizat</p>"
   ]
  },
  {
   "cell_type": "code",
   "execution_count": 121,
   "metadata": {},
   "outputs": [
    {
     "name": "stdout",
     "output_type": "stream",
     "text": [
      "Simbolul 1\n"
     ]
    },
    {
     "name": "stdin",
     "output_type": "stream",
     "text": [
      " x\n"
     ]
    },
    {
     "name": "stdout",
     "output_type": "stream",
     "text": [
      "Simbolul 2\n"
     ]
    },
    {
     "name": "stdin",
     "output_type": "stream",
     "text": [
      " y\n"
     ]
    },
    {
     "name": "stdout",
     "output_type": "stream",
     "text": [
      "Cu ce simbol introduceti gamma: \n"
     ]
    },
    {
     "name": "stdin",
     "output_type": "stream",
     "text": [
      " t\n"
     ]
    },
    {
     "name": "stdout",
     "output_type": "stream",
     "text": [
      "[x, y]\n",
      "Gamma se reprezinta cu ajutorul simbolului:  t\n"
     ]
    }
   ],
   "source": [
    "for i in range(n):\n",
    "    print(\"Simbolul\",i+1)\n",
    "    symbol_list.append(symbols(\"%c\" %input()))\n",
    "print(\"Cu ce simbol introduceti gamma: \")\n",
    "symbol_list.append(symbols(\"%c\" %input()))\n",
    "print(symbol_list[:n])\n",
    "print(\"Gamma se reprezinta cu ajutorul simbolului: \",symbol_list[n])"
   ]
  },
  {
   "cell_type": "markdown",
   "metadata": {},
   "source": [
    "<p style=\"font-size: 20px;\">Introducem componentele drumului gamma, ulterior afisandu-le pentru a ne asigura ca au fost introduse si interpretate corect</p>\n"
   ]
  },
  {
   "cell_type": "code",
   "execution_count": 122,
   "metadata": {},
   "outputs": [
    {
     "name": "stdout",
     "output_type": "stream",
     "text": [
      "Componenta 1 a lui gamma: \n"
     ]
    },
    {
     "name": "stdin",
     "output_type": "stream",
     "text": [
      " a*cos(t)\n"
     ]
    },
    {
     "name": "stdout",
     "output_type": "stream",
     "text": [
      "Componenta 2 a lui gamma: \n"
     ]
    },
    {
     "name": "stdin",
     "output_type": "stream",
     "text": [
      " b*sin(t)\n"
     ]
    },
    {
     "name": "stdout",
     "output_type": "stream",
     "text": [
      "Componenta:\n"
     ]
    },
    {
     "data": {
      "text/latex": [
       "$\\displaystyle a \\cos{\\left(t \\right)}$"
      ],
      "text/plain": [
       "a*cos(t)"
      ]
     },
     "metadata": {},
     "output_type": "display_data"
    },
    {
     "name": "stdout",
     "output_type": "stream",
     "text": [
      "cu derivata\n"
     ]
    },
    {
     "data": {
      "text/latex": [
       "$\\displaystyle - a \\sin{\\left(t \\right)}$"
      ],
      "text/plain": [
       "-a*sin(t)"
      ]
     },
     "metadata": {},
     "output_type": "display_data"
    },
    {
     "name": "stdout",
     "output_type": "stream",
     "text": [
      "Componenta:\n"
     ]
    },
    {
     "data": {
      "text/latex": [
       "$\\displaystyle b \\sin{\\left(t \\right)}$"
      ],
      "text/plain": [
       "b*sin(t)"
      ]
     },
     "metadata": {},
     "output_type": "display_data"
    },
    {
     "name": "stdout",
     "output_type": "stream",
     "text": [
      "cu derivata\n"
     ]
    },
    {
     "data": {
      "text/latex": [
       "$\\displaystyle b \\cos{\\left(t \\right)}$"
      ],
      "text/plain": [
       "b*cos(t)"
      ]
     },
     "metadata": {},
     "output_type": "display_data"
    }
   ],
   "source": [
    "for i in range(n):\n",
    "    print(\"Componenta\",i+1,\"a lui gamma: \")\n",
    "    gammma.append(sympify(input()))\n",
    "\n",
    "for ex in gammma:\n",
    "    print(\"Componenta:\")\n",
    "    display(ex)\n",
    "    print(\"cu derivata\")\n",
    "    display(diff(ex,symbol_list[n]))"
   ]
  },
  {
   "cell_type": "markdown",
   "metadata": {},
   "source": [
    "<p style=\"font-size: 20px;\">Introducem componentele campului vectorial, ulterior afisandu-le pentru a ne asigura ca au fost introduse si interpretate corect</p>"
   ]
  },
  {
   "cell_type": "code",
   "execution_count": 123,
   "metadata": {},
   "outputs": [
    {
     "name": "stdout",
     "output_type": "stream",
     "text": [
      "Introduceti componentele campului vectorial, cu ajutorul simbolurilor selectate anterior: [x, y]\n",
      "Componenta 1\n"
     ]
    },
    {
     "name": "stdin",
     "output_type": "stream",
     "text": [
      " -y\n"
     ]
    },
    {
     "name": "stdout",
     "output_type": "stream",
     "text": [
      "Componenta 2\n"
     ]
    },
    {
     "name": "stdin",
     "output_type": "stream",
     "text": [
      " x\n"
     ]
    },
    {
     "data": {
      "text/latex": [
       "$\\displaystyle - y$"
      ],
      "text/plain": [
       "-y"
      ]
     },
     "metadata": {},
     "output_type": "display_data"
    },
    {
     "data": {
      "text/latex": [
       "$\\displaystyle x$"
      ],
      "text/plain": [
       "x"
      ]
     },
     "metadata": {},
     "output_type": "display_data"
    }
   ],
   "source": [
    "print(\"Introduceti componentele campului vectorial, cu ajutorul simbolurilor selectate anterior: {}\".format(symbol_list[:n]))\n",
    "for i in range(n):\n",
    "    print(\"Componenta\",i+1)\n",
    "    componente_camp.append(sympify(input()))\n",
    "    \n",
    "for c in componente_camp:\n",
    "    display(c)"
   ]
  },
  {
   "cell_type": "markdown",
   "metadata": {},
   "source": [
    "<p style=\"font-size: 20px;\">Initializam o variabila numita <b>functfin</b>, la care adaugam componentele campului, aplicate in Gamma, inmultite cu derivatele corespunzatoare ale componentelor lui Gamma</p>"
   ]
  },
  {
   "cell_type": "code",
   "execution_count": 124,
   "metadata": {},
   "outputs": [],
   "source": [
    "functfin=0\n",
    "for i in range(n):\n",
    "    fadd=componente_camp[i]\n",
    "    for j in range(n):\n",
    "        fadd=fadd.subs(symbol_list[j],gammma[j])\n",
    "    functfin+= fadd*diff(gammma[i],symbol_list[n])"
   ]
  },
  {
   "cell_type": "markdown",
   "metadata": {},
   "source": [
    "<p style=\"font-size: 20px;\">Afisare a functiei finale ce va fi integrata</p>"
   ]
  },
  {
   "cell_type": "code",
   "execution_count": 125,
   "metadata": {},
   "outputs": [
    {
     "data": {
      "text/latex": [
       "$\\displaystyle a b$"
      ],
      "text/plain": [
       "a*b"
      ]
     },
     "metadata": {},
     "output_type": "display_data"
    },
    {
     "data": {
      "text/latex": [
       "$\\displaystyle a b$"
      ],
      "text/plain": [
       "a*b"
      ]
     },
     "metadata": {},
     "output_type": "display_data"
    }
   ],
   "source": [
    "display(trigsimp(functfin))\n",
    "display(factor(trigsimp(functfin)))"
   ]
  },
  {
   "cell_type": "markdown",
   "metadata": {},
   "source": [
    "<p style=\"font-size: 20px;\">Introducerea si afisarea intervalului</p>"
   ]
  },
  {
   "cell_type": "code",
   "execution_count": 126,
   "metadata": {},
   "outputs": [
    {
     "name": "stdout",
     "output_type": "stream",
     "text": [
      "Introduceti intervalul de integrare:\n"
     ]
    },
    {
     "name": "stdin",
     "output_type": "stream",
     "text": [
      " 0\n",
      " 2*pi\n"
     ]
    },
    {
     "name": "stdout",
     "output_type": "stream",
     "text": [
      "Intervalul este [0.00,6.28]\n"
     ]
    }
   ],
   "source": [
    "print(\"Introduceti intervalul de integrare:\")\n",
    "a=sympify(input())\n",
    "a=float(a.evalf())\n",
    "\n",
    "b=sympify(input())\n",
    "b=float(b.evalf())\n",
    "\n",
    "print(\"Intervalul este [{:.2f},{:.2f}]\".format(a,b))\n",
    "    "
   ]
  },
  {
   "cell_type": "markdown",
   "metadata": {},
   "source": [
    "<p style=\"font-size: 20px;\">Afisarea rezultatului final</p>"
   ]
  },
  {
   "cell_type": "code",
   "execution_count": 127,
   "metadata": {},
   "outputs": [
    {
     "data": {
      "text/latex": [
       "$\\displaystyle \\int\\limits_{0.0}^{6.28318530717959} \\left(a b \\sin^{2}{\\left(t \\right)} + a b \\cos^{2}{\\left(t \\right)}\\right)\\, dt$"
      ],
      "text/plain": [
       "Integral(a*b*sin(t)**2 + a*b*cos(t)**2, (t, 0.0, 6.28318530717959))"
      ]
     },
     "metadata": {},
     "output_type": "display_data"
    },
    {
     "name": "stdout",
     "output_type": "stream",
     "text": [
      "=\n"
     ]
    },
    {
     "data": {
      "text/latex": [
       "$\\displaystyle 6.28318530717959 a b$"
      ],
      "text/plain": [
       "6.28318530717959*a*b"
      ]
     },
     "metadata": {},
     "output_type": "display_data"
    }
   ],
   "source": [
    "g=Integral(functfin,(symbol_list[n],a,b))\n",
    "    \n",
    "display(g)\n",
    "print(\"=\")\n",
    "display(g.doit().evalf(chop=True))"
   ]
  },
  {
   "cell_type": "markdown",
   "metadata": {},
   "source": [
    "<p style=\"font-size: 20px;\">Afisarea campului vectorial 2-D</p>"
   ]
  },
  {
   "cell_type": "code",
   "execution_count": 128,
   "metadata": {},
   "outputs": [
    {
     "data": {
      "image/png": "[encoded data removed]",
      "text/plain": [
       "<Figure size 432x288 with 1 Axes>"
      ]
     },
     "metadata": {
      "needs_background": "light"
     },
     "output_type": "display_data"
    }
   ],
   "source": [
    "%matplotlib inline\n",
    "if n == 2:\n",
    "    xrange = np.linspace(-3,3,15)\n",
    "    yrange = np.linspace(-3,3,15)\n",
    "    X,Y = np.meshgrid(xrange,yrange)\n",
    "    U=X\n",
    "    V=Y\n",
    "    \n",
    "    for i in range(len(xrange)):\n",
    "        for j in range(len(yrange)):\n",
    "            x1 = X[i,j]\n",
    "            y1 = Y[i,j]\n",
    "            try:\n",
    "                U[i,j] = componente_camp[0].subs({symbol_list[0]:x1, symbol_list[1]:y1})\n",
    "                V[i,j] = componente_camp[1].subs({symbol_list[0]:x1, symbol_list[1]:y1})\n",
    "            except: \n",
    "                print(\"Graficul nu poate fi realizat\")\n",
    "                break\n",
    "    plt.quiver(X,Y,U,V, linewidth=1)\n",
    "    plt.title(\"Campul Vectorial\")\n",
    "    plt.show()\n",
    "\n",
    "else:\n",
    "    print(\"Graficul nu poate fi realizat\")"
   ]
  }
 ],
 "metadata": {
  "kernelspec": {
   "display_name": "Python 3",
   "language": "python",
   "name": "python3"
  },
  "language_info": {
   "codemirror_mode": {
    "name": "ipython",
    "version": 3
   },
   "file_extension": ".py",
   "mimetype": "text/x-python",
   "name": "python",
   "nbconvert_exporter": "python",
   "pygments_lexer": "ipython3",
   "version": "3.9.0"
  }
 },
 "nbformat": 4,
 "nbformat_minor": 4
}
